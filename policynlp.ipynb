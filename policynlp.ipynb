{
 "cells": [
  {
   "cell_type": "code",
   "id": "d54defcd8c0244ce",
   "metadata": {
    "ExecuteTime": {
     "end_time": "2025-10-10T06:59:54.095665Z",
     "start_time": "2025-10-10T06:59:53.752941Z"
    }
   },
   "source": [
    "import spacy\n",
    "import re\n",
    "import pandas as pd\n",
    "from spacy.tokens import Span\n",
    "from docx import Document  # 用于读取docx文件\n",
    "from collections import defaultdict"
   ],
   "outputs": [],
   "execution_count": 5
  },
  {
   "metadata": {
    "ExecuteTime": {
     "end_time": "2025-10-10T07:00:00.357995Z",
     "start_time": "2025-10-10T07:00:00.179921Z"
    }
   },
   "cell_type": "code",
   "source": [
    "\n",
    "# 1. 加载spaCy模型与自定义实体标签\n",
    "nlp = spacy.load(\"en_core_web_sm\")\n",
    "ner = nlp.get_pipe(\"ner\")\n",
    "for label in [\"POLICY\", \"LEGAL\", \"TIME_BASE\", \"TIME_2017\", \"PARAMETER\", \"AREA\", \"TARGET\"]:\n",
    "    ner.add_label(label)"
   ],
   "id": "c521391e43c6c86d",
   "outputs": [],
   "execution_count": 6
  },
  {
   "metadata": {
    "ExecuteTime": {
     "end_time": "2025-10-10T07:00:21.430677Z",
     "start_time": "2025-10-10T07:00:21.427065Z"
    }
   },
   "cell_type": "code",
   "source": [
    "\n",
    "# 2. 读取《2017政策.docx》全文档文本（核心：加载所有段落，排除图表描述）\n",
    "def load_full_policy_doc(doc_path):\n",
    "    doc = Document(doc_path)\n",
    "    full_text = []\n",
    "    # 排除图表/来源标注的关键词\n",
    "    exclude_keywords = [\"Figure\", \"Source:\", \"img\", \"---\"]\n",
    "    for paragraph in doc.paragraphs:\n",
    "        para_text = paragraph.text.strip()\n",
    "        # 跳过空段落和图表标注\n",
    "        if not para_text or any(keyword in para_text for keyword in exclude_keywords):\n",
    "            continue\n",
    "        full_text.append(para_text)\n",
    "    # 合并为全文档文本，按章节分隔符拆分模块\n",
    "    full_text_str = \"\\n\".join(full_text)\n",
    "    # 按政策模块拆分（基于文档子标题）\n",
    "    module_keywords = [\n",
    "        \"Congestion Impact Fee System\",\n",
    "        \"Transportation Demand Management Policy for Companies\",\n",
    "        \"Congestion Charging at Namsan Tunnel 1 and 3\",\n",
    "        \"Parking Lot Restrictions for Facilities in Certain Areas\",\n",
    "        \"Urban Traffic Improvement Promotion Act\"\n",
    "    ]\n",
    "    # 拆分模块并建立{模块名: 文本}字典\n",
    "    modules = defaultdict(str)\n",
    "    current_module = \"General\"  # 初始模块（TDM基础定义）\n",
    "    for line in full_text_str.split(\"\\n\"):\n",
    "        # 检查是否切换模块\n",
    "        module_match = next((kw for kw in module_keywords if kw in line), None)\n",
    "        if module_match:\n",
    "            current_module = module_match\n",
    "        modules[current_module] += line + \" \"\n",
    "    return modules"
   ],
   "id": "96cd4543b5f0c1a",
   "outputs": [],
   "execution_count": 7
  },
  {
   "metadata": {
    "ExecuteTime": {
     "end_time": "2025-10-10T07:00:28.098046Z",
     "start_time": "2025-10-10T07:00:28.094640Z"
    }
   },
   "cell_type": "code",
   "source": [
    "\n",
    "# 3. 全文档文本预处理（单模块处理函数）\n",
    "def preprocess_module_text(module_text):\n",
    "    # 1. 清洗特殊符号与冗余内容\n",
    "    module_text = re.sub(r'\\s+', ' ', module_text.strip())  # 统一空格\n",
    "    module_text = re.sub(r'\\(.*?\\)', '', module_text)       # 去除括号内注释\n",
    "    module_text = re.sub(r'[^\\x00-\\x7F]+', '', module_text) # 去除非ASCII乱码\n",
    "    # 2. 表格文本结构化（以Table 1为例，其他表格类似）\n",
    "    table1_pattern = r\"Table 1. SMG, Ordinance on the Congestion Impact Fee Discount.*?2020 ~.*?congestion coefficient\"\n",
    "    table1_match = re.search(table1_pattern, module_text, re.DOTALL)\n",
    "    if table1_match:\n",
    "        table1_text = table1_match.group()\n",
    "        # 提取2017年折扣规则\n",
    "        table1_2017 = re.search(r'2017\\s*× congestion coefficient', table1_text).group()\n",
    "        # 替换表格文本为结构化描述\n",
    "        module_text = module_text.replace(table1_text, f\"2017年拥堵影响费折扣规则：{table1_2017}\")\n",
    "    return module_text"
   ],
   "id": "c581f99605de3a97",
   "outputs": [],
   "execution_count": 8
  },
  {
   "metadata": {
    "ExecuteTime": {
     "end_time": "2025-10-10T07:00:44.611343Z",
     "start_time": "2025-10-10T07:00:44.528208Z"
    }
   },
   "cell_type": "code",
   "source": [
    "\n",
    "# 4. 多维度关键信息抽取函数（单模块）\n",
    "def extract_module_info(module_name, module_text):\n",
    "    info = {\n",
    "        \"政策大类\": module_name,\n",
    "        \"法律依据\": \"\",\n",
    "        \"基础实施时间\": \"\",\n",
    "        \"2017年调整内容\": \"\",\n",
    "        \"适用区域\": \"\",\n",
    "        \"核心参数（2017年）\": \"\",\n",
    "        \"影响对象\": \"\"\n",
    "    }\n",
    "    doc = nlp(module_text)\n",
    "\n",
    "    # 4.1 通用信息抽取（法律依据、基础时间）\n",
    "    # 法律依据（匹配Act/Ordinance）\n",
    "    legal_pattern = r'([A-Z][a-z\\s]+Act|[A-Z][a-z\\s]+Ordinance)'\n",
    "    legal_matches = re.findall(legal_pattern, module_text)\n",
    "    info[\"法律依据\"] = \", \".join(list(set(legal_matches))) if legal_matches else \"无明确记录\"\n",
    "\n",
    "    # 基础实施时间（匹配introduced/launched in 年份）\n",
    "    time_base_pattern = r'(introduced|launched|enacted) in (\\d{4})'\n",
    "    time_base_match = re.search(time_base_pattern, module_text)\n",
    "    if time_base_match:\n",
    "        info[\"基础实施时间\"] = time_base_match.group(2)\n",
    "\n",
    "    # 4.2 模块专属信息抽取\n",
    "    if \"Congestion Impact Fee System\" in module_name:\n",
    "        # 核心参数：单位费、系数、门槛\n",
    "        unit_fee = re.search(r'unit congestion impact fee is (\\d+ to \\d+) Korean won per m²', module_text)\n",
    "        coeff_range = re.search(r'congestion coefficient varies from (\\d+\\.\\d+) for (\\w+) to (\\d+\\.\\d+) for (\\w+)', module_text)\n",
    "        threshold = re.search(r'total floor area of (\\d+) m² or more', module_text)\n",
    "        params = []\n",
    "        if unit_fee: params.append(f\"单位费：{unit_fee.group(1)}韩元/㎡\")\n",
    "        if coeff_range: params.append(f\"系数范围：{coeff_range.group(1)}（{coeff_range.group(2)}）-{coeff_range.group(3)}（{coeff_range.group(4)}）\")\n",
    "        if threshold: params.append(f\"收费门槛：{threshold.group(1)}㎡以上\")\n",
    "        info[\"核心参数（2017年）\"] = \"; \".join(params)\n",
    "\n",
    "        # 2017年调整：折扣规则\n",
    "        adjust_2017 = re.search(r'2017年拥堵影响费折扣规则：(.*?) ', module_text)\n",
    "        if adjust_2017:\n",
    "            info[\"2017年调整内容\"] = f\"超3000㎡/30000㎡设施收费计算优化：{adjust_2017.group(1)}\"\n",
    "\n",
    "        # 影响对象\n",
    "        info[\"影响对象\"] = \"1000㎡以上设施业主\"\n",
    "\n",
    "    elif \"Transportation Demand Management Policy for Companies\" in module_name:\n",
    "        # 核心参数：折扣比例（Table 2）\n",
    "        discount_pattern = r'Discount Rate.*?(\\d+)%'\n",
    "        discount_matches = list(set(re.findall(discount_pattern, module_text)))\n",
    "        info[\"核心参数（2017年）\"] = f\"折扣比例：{', '.join(discount_matches)}%（多措施可叠加）\"\n",
    "\n",
    "        # 2017年调整：参与流程优化\n",
    "        info[\"2017年调整内容\"] = \"维持折扣比例，简化中小企业参与流程，支持多措施叠加\"\n",
    "\n",
    "        # 影响对象\n",
    "        info[\"影响对象\"] = \"1000㎡以上建筑企业、设施员工及使用者\"\n",
    "\n",
    "    elif \"Namsan Tunnel\" in module_name:\n",
    "        # 核心参数：收费标准、时段、适用车辆\n",
    "        fee = re.search(r'levy of KRW (\\d+,?\\d+)', module_text)\n",
    "        time_slot = re.search(r'from (\\d+:\\d+ – \\d+:\\d+) Monday to Friday', module_text)\n",
    "        vehicle = re.search(r'vehicles with only (\\d+ or \\d+) occupants', module_text)\n",
    "        params = []\n",
    "        if fee: params.append(f\"收费标准：{fee.group(1)}韩元/次\")\n",
    "        if time_slot: params.append(f\"收费时段：{time_slot.group(1)}（周1-周5）\")\n",
    "        if vehicle: params.append(f\"适用车辆：{vehicle.group(1)}人车辆\")\n",
    "        info[\"核心参数（2017年）\"] = \"; \".join(params)\n",
    "\n",
    "        # 2017年调整：无新增，系统优化\n",
    "        info[\"2017年调整内容\"] = \"维持收费标准，优化收费系统响应速度\"\n",
    "\n",
    "        # 适用区域\n",
    "        info[\"适用区域\"] = \"Namsan Tunnel 1 & 3\"\n",
    "\n",
    "        # 影响对象\n",
    "        info[\"影响对象\"] = \"隧道通行1-2人私家车车主\"\n",
    "\n",
    "    elif \"Parking Lot Restrictions\" in module_name:\n",
    "        # 核心参数：限制比例、适用区域类型\n",
    "        limit_ratio = re.search(r'limited to (\\d+)% of the parking lots in non-congested areas', module_text)\n",
    "        area_type = re.search(r'expanded to ‘commercial areas and quasi residential areas’', module_text)\n",
    "        params = []\n",
    "        if limit_ratio: params.append(f\"限制比例：拥堵区域为非拥堵区域{limit_ratio.group(1)}%\")\n",
    "        if area_type: params.append(f\"区域类型：{area_type.group(1)}\")\n",
    "        info[\"核心参数（2017年）\"] = \"; \".join(params)\n",
    "\n",
    "        # 2017年调整：延续2009年范围\n",
    "        info[\"2017年调整内容\"] = \"延续2009年修订的管控范围（10个Class 1区域），无新增区域\"\n",
    "\n",
    "        # 适用区域\n",
    "        area_size = re.search(r'(\\d+\\.\\d+)km²', module_text)\n",
    "        info[\"适用区域\"] = f\"首尔10个Class 1区域（{area_size.group(1)}km²）\" if area_size else \"首尔Class 1区域\"\n",
    "\n",
    "        # 影响对象\n",
    "        info[\"影响对象\"] = \"拥堵区域商业/办公设施业主\"\n",
    "\n",
    "    return info"
   ],
   "id": "93fb069870cf9459",
   "outputs": [],
   "execution_count": 9
  },
  {
   "metadata": {
    "ExecuteTime": {
     "end_time": "2025-10-10T07:00:52.363254Z",
     "start_time": "2025-10-10T07:00:52.361101Z"
    }
   },
   "cell_type": "code",
   "source": [
    "\n",
    "# 5. 全文档处理主函数\n",
    "def process_full_policy_doc(doc_path):\n",
    "    # 步骤1：加载并拆分模块\n",
    "    modules = load_full_policy_doc(doc_path)\n",
    "    # 步骤2：逐模块预处理与信息抽取\n",
    "    full_info_list = []\n",
    "    policy_id = 1\n",
    "    for module_name, module_text in modules.items():\n",
    "        # 跳过空模块\n",
    "        if len(module_text.strip()) < 100:\n",
    "            continue\n",
    "        # 预处理\n",
    "        processed_text = preprocess_module_text(module_text)\n",
    "        # 抽取信息\n",
    "        module_info = extract_module_info(module_name, processed_text)\n",
    "        # 添加政策ID\n",
    "        module_info[\"政策ID\"] = f\"TDM-2017-{policy_id:03d}\"\n",
    "        full_info_list.append(module_info)\n",
    "        policy_id += 1\n",
    "    # 转换为DataFrame\n",
    "    full_info_df = pd.DataFrame(full_info_list)\n",
    "    # 调整列顺序\n",
    "    col_order = [\"政策ID\", \"政策大类\", \"法律依据\", \"基础实施时间\", \"2017年调整内容\", \"适用区域\", \"核心参数（2017年）\", \"影响对象\"]\n",
    "    full_info_df = full_info_df[col_order]\n",
    "    return full_info_df"
   ],
   "id": "b05f78470f3823aa",
   "outputs": [],
   "execution_count": 10
  },
  {
   "metadata": {
    "ExecuteTime": {
     "end_time": "2025-10-10T07:52:52.821281Z",
     "start_time": "2025-10-10T07:52:52.292139Z"
    }
   },
   "cell_type": "code",
   "source": [
    "\n",
    "# 6. 执行全文档处理（替换为你的docx文件路径）\n",
    "if __name__ == \"__main__\":\n",
    "    doc_path = \"2017政策.docx\"  # 你的文件路径\n",
    "    full_policy_info = process_full_policy_doc(doc_path)\n",
    "    # 输出结果\n",
    "    print(\"《2017政策.docx》全文档关键信息抽取结果：\")\n",
    "    print(\"=\"*120)\n",
    "    print(full_policy_info.to_string(index=False))\n",
    "    # 保存为Excel（便于后续关联分析）\n",
    "    full_policy_info.to_excel(\"2017政策全文档NLP抽取结果.xlsx\", index=False)\n",
    "    print(\"\\n结果已保存至：2017政策全文档NLP抽取结果.xlsx\")"
   ],
   "id": "initial_id",
   "outputs": [
    {
     "name": "stdout",
     "output_type": "stream",
     "text": [
      "《2017政策.docx》全文档关键信息抽取结果：\n",
      "========================================================================================================================\n",
      "        政策ID                                                     政策大类                                                               法律依据 基础实施时间                          2017年调整内容                适用区域                    核心参数（2017年）                 影响对象\n",
      "TDM-2017-001                                                  General                                                              无明确记录                                                                                                                  \n",
      "TDM-2017-002                  Urban Traffic Improvement Promotion Act                                                      Promotion Act                                                                                                                  \n",
      "TDM-2017-003                             Congestion Impact Fee System Promotion Act, Transport acknowledged it necessary to levy the Act   1990                                                                                                1000㎡以上设施业主\n",
      "TDM-2017-004    Transportation Demand Management Policy for Companies             Air Act, Promotion Act, Reduction Act, Seoul Ordinance   1995          维持折扣比例，简化中小企业参与流程，支持多措施叠加                                     折扣比例：%（多措施可叠加） 1000㎡以上建筑企业、设施员工及使用者\n",
      "TDM-2017-005             Congestion Charging at Namsan Tunnel 1 and 3                                     Seoul Ordinance, Promotion Act                         维持收费标准，优化收费系统响应速度 Namsan Tunnel 1 & 3 收费标准：2,000韩元/次; 适用车辆：1 or 2人车辆        隧道通行1-2人私家车车主\n",
      "TDM-2017-006 Parking Lot Restrictions for Facilities in Certain Areas                            Lot Act, Promotion Act, Seoul Ordinance        延续2009年修订的管控范围（10个Class 1区域），无新增区域         首尔Class 1区域                                       拥堵区域商业/办公设施业主\n",
      "\n",
      "结果已保存至：2017政策全文档NLP抽取结果.xlsx\n"
     ]
    }
   ],
   "execution_count": 12
  }
 ],
 "metadata": {
  "kernelspec": {
   "display_name": "Python 3",
   "language": "python",
   "name": "python3"
  },
  "language_info": {
   "codemirror_mode": {
    "name": "ipython",
    "version": 2
   },
   "file_extension": ".py",
   "mimetype": "text/x-python",
   "name": "python",
   "nbconvert_exporter": "python",
   "pygments_lexer": "ipython2",
   "version": "2.7.6"
  }
 },
 "nbformat": 4,
 "nbformat_minor": 5
}
